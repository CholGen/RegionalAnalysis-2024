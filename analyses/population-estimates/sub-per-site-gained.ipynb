{
 "cells": [
  {
   "cell_type": "code",
   "execution_count": 2,
   "id": "initial_id",
   "metadata": {
    "collapsed": true,
    "ExecuteTime": {
     "end_time": "2024-08-15T17:31:33.879972Z",
     "start_time": "2024-08-15T17:31:33.876817Z"
    }
   },
   "outputs": [],
   "source": [
    "import pandas as pd\n",
    "from dendropy import Tree\n",
    "import numpy as np\n",
    "import matplotlib.pyplot as plt\n",
    "\n",
    "COLOR = '#343434'\n",
    "\n",
    "color_map = {\n",
    "    \"Zambia\" : \"#009E73\", # green\n",
    "    \"Mozambique\" : \"#56B4E9\", # blue\n",
    "    \"Nigeria\" : \"#0072B2\",  # reddish-purple\n",
    "    \"Cameroon\" : \"#D55E00\", # brown \n",
    "    \"Democratic Republic of the Congo\" : COLOR, #Black\n",
    "    \"Uganda\" : \"#F0E442\",\n",
    "    \"Malawi\" : \"#E69F00\", # orange \n",
    "    \"Other\" : \"#C8C8C8\" # grey\n",
    "}\n"
   ]
  },
  {
   "metadata": {},
   "cell_type": "markdown",
   "source": [
    "# Calculate phylogenetic diversity per country\n",
    "Here we calculate the amount of phylogenetic diversity added by the genomic surveillance in each CholGEN member state. "
   ],
   "id": "980c15bd80092268"
  },
  {
   "metadata": {},
   "cell_type": "markdown",
   "source": "First, we load in the metadata to identify which tips in the tree are from CholGEN and which aren't.",
   "id": "5bf232c2192ad84d"
  },
  {
   "cell_type": "code",
   "outputs": [],
   "source": [
    "md = list()\n",
    "for file in [\"supplemental_data1.csv\", \"supplemental_data2.csv\"]:\n",
    "    df = pd.read_csv( \"../../data/\" + file, usecols=[\"taxa\", \"country\", \"included_analysis\"] )\n",
    "    df[\"workshop\"] = (file == \"supplemental_data1.csv\")\n",
    "    md.append( df )\n",
    "    \n",
    "md = pd.concat( md )\n",
    "md = md.loc[md[\"included_analysis\"]].copy()\n",
    "workshop_dict = md.set_index( \"taxa\" )[\"workshop\"].to_dict()"
   ],
   "metadata": {
    "collapsed": false,
    "ExecuteTime": {
     "end_time": "2024-08-15T17:31:39.593966Z",
     "start_time": "2024-08-15T17:31:39.562954Z"
    }
   },
   "id": "1436d37359f00c3b",
   "execution_count": 3
  },
  {
   "metadata": {},
   "cell_type": "markdown",
   "source": "Next, we load the posterior distribution of our phylogenetic reconstruction.",
   "id": "3df7e97b0681988e"
  },
  {
   "metadata": {},
   "cell_type": "code",
   "outputs": [],
   "execution_count": null,
   "source": "yielder = Tree.yield_from_files( files=[\"../../beast-analyses/2025-05-28_constant_relaxed.combined.down.trees\"], schema=\"nexus\", preserve_underscores=True )",
   "id": "466d78fbc2dc1a7"
  },
  {
   "metadata": {},
   "cell_type": "markdown",
   "source": "Finally, we perform the calculation of phylogenetic diversity. We iterate through each tree in the posterior, convert branch lengths from units of decimal years to substitutions/site by multipling by the estimated substitution rate on that branch. For each country, we estimate the phylogenetic diversity as the difference between the total branch length of the tree and the total branch lengths of a tree in which the CholGEN sequences from that country have been removed.",
   "id": "cd89d1de71344906"
  },
  {
   "cell_type": "code",
   "outputs": [
    {
     "name": "stdout",
     "output_type": "stream",
     "text": [
      "Completed 0 trees...\n",
      "Completed 100 trees...\n",
      "Completed 200 trees...\n",
      "Completed 300 trees...\n",
      "Completed 400 trees...\n",
      "Completed 500 trees...\n",
      "Completed 600 trees...\n",
      "Completed 700 trees...\n"
     ]
    }
   ],
   "source": [
    "countries = [\"Nigeria\", \"Cameroon\", \"Democratic Republic of the Congo\", \"Uganda\", \"Zambia\", \"Malawi\", \"Mozambique\"]\n",
    "columns = [ \n",
    "\t\"tree\", \n",
    "\t\"total_branch_length\", \n",
    "\t\"Nigeria\", \"Nigeria_random\", \n",
    "\t\"Cameroon\", \"Cameroon_random\", \n",
    "\t\"Democratic Republic of the Congo\", \"Democratic Republic of the Congo_random\", \n",
    "\t\"Uganda\", \"Uganda_random\", \n",
    "\t\"Zambia\", \"Zambia_random\",\n",
    "\t\"Malawi\", \"Malawi_random\",\n",
    "\t\"Mozambique\", \"Mozambique_random\"\n",
    "]\n",
    "results = {col : [] for col in columns}\n",
    "\n",
    "country_dict = dict()\n",
    "for country in countries:\n",
    "\tcountry_dict[country] = md.loc[(md[\"country\"]==country)&md[\"workshop\"],\"taxa\"].to_list()\n",
    "\n",
    "for tree_idx, t in enumerate( yielder ):\n",
    "\ttree = t\n",
    "\t\n",
    "\ttotal_branch_length = list()\n",
    "\tfor node in tree.preorder_node_iter():\n",
    "\t\tif node.edge_length is None:\n",
    "\t\t\tcontinue\n",
    "\t\tnode.edge_length *= float( node.annotations.get_value( \"rate\" ) )\n",
    "\t\ttotal_branch_length.append( node.edge_length )\n",
    "\t\n",
    "\ttotal_branch_length = np.sum( total_branch_length )\n",
    "\t\n",
    "\tfor country in countries:\n",
    "\t\tworkshop_tree = tree.extract_tree_without_taxa_labels( country_dict[country] )\n",
    "\t\t\n",
    "\t\two_workshop_bl = np.sum( [edge.length for edge in workshop_tree.preorder_edge_iter() if edge.length] )\n",
    "\t\tworkshop_bl = total_branch_length - wo_workshop_bl\n",
    "\t\t\n",
    "\t\trandom_sample = md.sample( n=len( country_dict[country] ), replace=False )[\"taxa\"].to_list()\n",
    "\t\t\n",
    "\t\trandom_tree = tree.extract_tree_without_taxa_labels( random_sample )\n",
    "\t\two_random_bl = np.sum( [edge.length for edge in random_tree.preorder_edge_iter() if edge.length] )\n",
    "\t\trandom_bl = total_branch_length - wo_random_bl\n",
    "\t\tresults[country].append( workshop_bl )\n",
    "\t\tresults[f\"{country}_random\"].append( random_bl )\n",
    "\t\t\n",
    "\tresults[\"tree\"].append( tree_idx )\n",
    "\tresults[\"total_branch_length\"].append( total_branch_length )\n",
    "\t\n",
    "\tif tree_idx % 100 == 0:\n",
    "\t\tprint( f\"Completed {tree_idx} trees...\" )\n",
    "\n",
    "results = pd.DataFrame( results )\n",
    "results.to_csv( \"subs-site-per-country.csv\", index=False )"
   ],
   "metadata": {
    "collapsed": false,
    "ExecuteTime": {
     "end_time": "2024-08-15T17:40:14.315360Z",
     "start_time": "2024-08-15T17:32:02.750170Z"
    }
   },
   "id": "602b68edb7a5920f",
   "execution_count": 4
  }
 ],
 "metadata": {
  "kernelspec": {
   "display_name": "Python 3",
   "language": "python",
   "name": "python3"
  },
  "language_info": {
   "codemirror_mode": {
    "name": "ipython",
    "version": 2
   },
   "file_extension": ".py",
   "mimetype": "text/x-python",
   "name": "python",
   "nbconvert_exporter": "python",
   "pygments_lexer": "ipython2",
   "version": "2.7.6"
  }
 },
 "nbformat": 4,
 "nbformat_minor": 5
}
