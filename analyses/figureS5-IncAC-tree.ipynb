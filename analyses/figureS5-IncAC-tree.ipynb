{
 "cells": [
  {
   "cell_type": "code",
   "id": "initial_id",
   "metadata": {
    "collapsed": true
   },
   "source": [
    "import pandas as pd\n",
    "from matplotlib.lines import Line2D\n",
    "from matplotlib import pyplot as plt\n",
    "from utils import setup_plotting_standards, plotTree, plotPoints\n",
    "import baltic as bt\n",
    "\n",
    "setup_plotting_standards()\n",
    "COLOR = '#343434'"
   ],
   "outputs": [],
   "execution_count": null
  },
  {
   "cell_type": "markdown",
   "source": [
    "# Supplemental Figure 1: Distribution of IncA/C plasmids\n",
    "Here we assess the distribution of IncA/C plasmids in isolates of the third wave of 7PET."
   ],
   "metadata": {
    "collapsed": false
   },
   "id": "b615c7f8abec7736"
  },
  {
   "cell_type": "markdown",
   "source": [
    "First, we load in the metadata for all samples used in the phylogeny. We previously found the presence of IncA/C in pubicly available sequences by assessing literature, and scanned denovo assemblies of our own sequences for plasmids using PlasmidFinder. These values have been placed in the `IncA/C` column of the metadata. "
   ],
   "metadata": {
    "collapsed": false
   },
   "id": "341a3925a49da785"
  },
  {
   "cell_type": "code",
   "source": [
    "md = list()\n",
    "for file in [\"supplemental_data1.csv\", \"supplemental_data2.csv\"]:\n",
    "    df = pd.read_csv( \"../data/\" + file, usecols=[\"taxa\", \"IncA/C\", \"te\"] )\n",
    "    df[\"workshop\"] = (file == \"supplemental_data1.csv\")\n",
    "    md.append( df )\n",
    "    \n",
    "md = pd.concat( md )\n",
    "md = md.drop_duplicates()\n",
    "md = md.set_index( \"taxa\" )\n",
    "workshop_dict = md[\"workshop\"].to_dict()\n",
    "md.head()"
   ],
   "metadata": {
    "collapsed": false
   },
   "id": "71ceb1908c1e5c44",
   "outputs": [],
   "execution_count": null
  },
  {
   "cell_type": "markdown",
   "source": [
    "Next, we load the MCC tree from our bayesian phylogenetic reconstruction."
   ],
   "metadata": {
    "collapsed": false
   },
   "id": "6bf35b87d7d33210"
  },
  {
   "cell_type": "code",
   "source": [
    "tree = bt.loadNexus( \"../beast-analyses/2024-08-06_constant_relaxed.mcc.tree\" )\n",
    "tree.treeStats()"
   ],
   "metadata": {
    "collapsed": false
   },
   "id": "51cd872689886d71",
   "outputs": [],
   "execution_count": null
  },
  {
   "cell_type": "markdown",
   "source": [
    "Finally, we plot the tree labeling taxa by whether we have evidence of IncA/C or not. This generates Supplemental Figure 1."
   ],
   "metadata": {
    "collapsed": false
   },
   "id": "6fe576bca4d94d10"
  },
  {
   "cell_type": "code",
   "source": [
    "color_map = {\n",
    "    \"Not tested\" : \"#C8C8C8\",\n",
    "    \"Present\" : \"#0072B2\",\n",
    "    \"Absent\" : \"#ffac6a\"\n",
    "}\n",
    "\n",
    "def color_func( label ):\n",
    "    if label not in md.index:\n",
    "        return color_map[\"Absent\"]\n",
    "\n",
    "    res = md.loc[label][\"IncA/C\"]\n",
    "    if pd.isna( res ):\n",
    "        return color_map[\"Not tested\"]\n",
    "    elif res:\n",
    "        return color_map[\"Present\"]\n",
    "    else:\n",
    "        return color_map[\"Absent\"]\n",
    "\n",
    "def is_workshop( node, inverse=False ):\n",
    "    if node.is_leaf():\n",
    "        if inverse:\n",
    "            return not workshop_dict.get( node.name, True ) # We conservatives estimate that taxa missing from the metadata are workshop, because we've occasionally removed duplicates.\n",
    "        return workshop_dict.get( node.name, True )\n",
    "    return False\n",
    "\n",
    "fig, ax = plt.subplots( dpi=200, figsize=(12, 6.5) )\n",
    "x_attr = lambda k: k.absoluteTime\n",
    "node_func = lambda k: color_func( k.name )\n",
    "c_func = lambda k: \"#C8C8C8\"\n",
    "plotTree( tree, ax, x_attr=x_attr, colour=color_map[\"Not tested\"], linewidth=1, horizontal=True )\n",
    "plotPoints( tree, ax, x_attr=x_attr, target=lambda x: is_workshop(x, inverse=True), size=25, colour=\"w\", outline_colour=node_func, outline_size=40, zorder=100, horizontal=True, style=\"nate\", linewidth=1 )\n",
    "plotPoints( tree, ax, x_attr=x_attr, target=is_workshop, size=25, colour=node_func, zorder=150, horizontal=True, style=\"nate\", linewidth=0.5 )\n",
    "#small_tree.plotPoints( ax, x_attr=x_attr, target=lambda k : k.is_node() & (int( k.traits.get( \"label\", 0) ) > 50), color=COLOR, size=5 )\n",
    "\n",
    "ax.set_xticks([])\n",
    "ax.set_xticklabels([])\n",
    "ax.tick_params( axis=\"y\", left=False, right=False, which=\"both\", labelbottom=True, rotation=0, labelsize=12 )\n",
    "\n",
    "ax.set_yticks( range( 1965, 2030, 5 ), minor=False )\n",
    "ax.set_yticks( range( 1965, 2026 ), minor=True )\n",
    "ax.set_ylim( 1968, 2027 )\n",
    "\n",
    "ax.grid( which=\"major\", axis=\"y\", linewidth=1.5, color=\"#F1F1F1\", zorder=1 )\n",
    "ax.grid( which=\"minor\", axis=\"y\", linewidth=0.5, color=\"#F1F1F1\", zorder=1 )\n",
    "\n",
    "[ax.spines[loc].set_visible(False) for loc in ax.spines]\n",
    "ax.invert_yaxis()\n",
    "ax.invert_xaxis()\n",
    "\n",
    "\n",
    "legend2 = [\n",
    "    Line2D([0], [0], linestyle='none', marker='o', color=color_map[\"Present\"], markeredgecolor=COLOR, markeredgewidth=1, label=\"Present\", markersize=10 ),\n",
    "    Line2D([0], [0], linestyle='none', marker='o', color=color_map[\"Absent\"], markeredgecolor=COLOR, markeredgewidth=1, label=\"Absent\", markersize=10 ),\n",
    "    Line2D([0], [0], linestyle='none', marker='o', color=color_map[\"Not tested\"], markeredgecolor=COLOR, markeredgewidth=1, label=\"Missing data\", markersize=10 )\n",
    "]\n",
    "\n",
    "legend2 = ax.legend( title=\"IncA/C plasmid\", handles=legend2, loc=\"upper right\", handletextpad=0.1, frameon=False, fontsize=12, alignment=\"left\", title_fontproperties={ \"size\" : 12, \"weight\" : \"bold\" })\n",
    "\n",
    "count = 0\n",
    "for lin in [\"T9\", \"T10\", \"T11\", \"T12\", \"T13\", \"T15\"]:\n",
    "    representatives = md.loc[md[\"te\"]==lin].index.to_list()\n",
    "    span = [tip.y for tip in tree.getExternal() if tip.name in representatives]\n",
    "    min_span = min( span )\n",
    "    max_span = max( span )\n",
    "##    span = sorted( [tip.y for tip in tree.getExternal( lambda x: x.name in lineage_dict[lin] )] )\n",
    "    yloc = 2025.5 + 1 * (count % 2)\n",
    "    ax.hlines( yloc, min_span, max_span, colors=COLOR, alpha=0.6, linewidth=5, capstyle=\"round\", label=lin )\n",
    "    ax.text( (min_span + max_span) / 2, yloc+1.2, lin.replace( \"T\", \"AFR\" ), ha=\"center\", va=\"center\", fontsize=10, alpha=0.6 )\n",
    "    \n",
    "    count += 1\n",
    "\n",
    "plt.tight_layout()\n",
    "fig.savefig( \"plots/figureS5-phylogenetic-tree-AMR.pdf\", bbox_inches='tight' )\n",
    "fig.savefig( \"plots/figureS5-phylogenetic-tree-AMR.png\", bbox_inches='tight' )\n",
    "plt.show()"
   ],
   "metadata": {
    "collapsed": false
   },
   "id": "36e84f44f36e2e3f",
   "outputs": [],
   "execution_count": null
  }
 ],
 "metadata": {
  "kernelspec": {
   "display_name": "Python 3",
   "language": "python",
   "name": "python3"
  },
  "language_info": {
   "codemirror_mode": {
    "name": "ipython",
    "version": 2
   },
   "file_extension": ".py",
   "mimetype": "text/x-python",
   "name": "python",
   "nbconvert_exporter": "python",
   "pygments_lexer": "ipython2",
   "version": "2.7.6"
  }
 },
 "nbformat": 4,
 "nbformat_minor": 5
}
