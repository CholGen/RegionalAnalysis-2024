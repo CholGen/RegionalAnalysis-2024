{
 "cells": [
  {
   "cell_type": "code",
   "execution_count": 2,
   "id": "initial_id",
   "metadata": {
    "ExecuteTime": {
     "end_time": "2024-08-15T17:59:18.157531Z",
     "start_time": "2024-08-15T17:59:16.944442Z"
    }
   },
   "outputs": [],
   "source": [
    "import pandas as pd\n",
    "from matplotlib.lines import Line2D\n",
    "from matplotlib import pyplot as plt\n",
    "from utils import setup_plotting_standards, basic_formatting\n",
    "\n",
    "setup_plotting_standards()\n",
    "COLOR = '#343434'"
   ]
  },
  {
   "cell_type": "markdown",
   "source": [
    "# Supplemental Figure 4: Lineage substitution rates\n",
    "Here, we assess whether any of the third wave lineages have untypical substitution rates."
   ],
   "metadata": {
    "collapsed": false
   },
   "id": "d1554c8035e80024"
  },
  {
   "cell_type": "markdown",
   "source": [
    "Our bayesian phylogenetic reconstruction used an uncorrelated relaxed clock rate, which means that every branch samples a different substitution rate from a log-normal distribution. We extracted the median rates of each branch from the MCC tree generated from the run with the script in `lineage-rates/extract-rates.ipynb`."
   ],
   "metadata": {
    "collapsed": false
   },
   "id": "572628fc6566fcc5"
  },
  {
   "cell_type": "code",
   "execution_count": 3,
   "id": "b3a8b4229fad1d5b",
   "metadata": {
    "ExecuteTime": {
     "end_time": "2024-08-15T17:59:19.058630Z",
     "start_time": "2024-08-15T17:59:19.042095Z"
    },
    "collapsed": false
   },
   "outputs": [
    {
     "data": {
      "text/html": [
       "<div>\n",
       "<style scoped>\n",
       "    .dataframe tbody tr th:only-of-type {\n",
       "        vertical-align: middle;\n",
       "    }\n",
       "\n",
       "    .dataframe tbody tr th {\n",
       "        vertical-align: top;\n",
       "    }\n",
       "\n",
       "    .dataframe thead th {\n",
       "        text-align: right;\n",
       "    }\n",
       "</style>\n",
       "<table border=\"1\" class=\"dataframe\">\n",
       "  <thead>\n",
       "    <tr style=\"text-align: right;\">\n",
       "      <th></th>\n",
       "      <th>lineage</th>\n",
       "      <th>internal</th>\n",
       "      <th>median_rate</th>\n",
       "      <th>branch_length</th>\n",
       "    </tr>\n",
       "  </thead>\n",
       "  <tbody>\n",
       "    <tr>\n",
       "      <th>0</th>\n",
       "      <td>T9</td>\n",
       "      <td>False</td>\n",
       "      <td>2.967276e-07</td>\n",
       "      <td>3.010490</td>\n",
       "    </tr>\n",
       "    <tr>\n",
       "      <th>1</th>\n",
       "      <td>T9</td>\n",
       "      <td>False</td>\n",
       "      <td>8.649867e-07</td>\n",
       "      <td>3.010490</td>\n",
       "    </tr>\n",
       "    <tr>\n",
       "      <th>2</th>\n",
       "      <td>T9</td>\n",
       "      <td>True</td>\n",
       "      <td>2.763022e-07</td>\n",
       "      <td>0.556136</td>\n",
       "    </tr>\n",
       "    <tr>\n",
       "      <th>3</th>\n",
       "      <td>T9</td>\n",
       "      <td>False</td>\n",
       "      <td>1.712785e-07</td>\n",
       "      <td>2.520708</td>\n",
       "    </tr>\n",
       "    <tr>\n",
       "      <th>4</th>\n",
       "      <td>T9</td>\n",
       "      <td>False</td>\n",
       "      <td>2.896827e-07</td>\n",
       "      <td>3.520708</td>\n",
       "    </tr>\n",
       "  </tbody>\n",
       "</table>\n",
       "</div>"
      ],
      "text/plain": [
       "  lineage  internal   median_rate  branch_length\n",
       "0      T9     False  2.967276e-07       3.010490\n",
       "1      T9     False  8.649867e-07       3.010490\n",
       "2      T9      True  2.763022e-07       0.556136\n",
       "3      T9     False  1.712785e-07       2.520708\n",
       "4      T9     False  2.896827e-07       3.520708"
      ]
     },
     "execution_count": 3,
     "metadata": {},
     "output_type": "execute_result"
    }
   ],
   "source": [
    "rates = pd.read_csv( \"lineage-rates/lineage_rates.csv\" )\n",
    "rates.head()"
   ]
  },
  {
   "cell_type": "markdown",
   "source": [
    "For each lineage, we summarize the distribution of rates observed on its branches."
   ],
   "metadata": {
    "collapsed": false
   },
   "id": "375b430561603bb2"
  },
  {
   "cell_type": "code",
   "execution_count": 4,
   "id": "ac5d226db6c0abd2",
   "metadata": {
    "ExecuteTime": {
     "end_time": "2024-08-15T17:59:21.560994Z",
     "start_time": "2024-08-15T17:59:21.536799Z"
    },
    "collapsed": false
   },
   "outputs": [
    {
     "data": {
      "text/html": [
       "<div>\n",
       "<style scoped>\n",
       "    .dataframe tbody tr th:only-of-type {\n",
       "        vertical-align: middle;\n",
       "    }\n",
       "\n",
       "    .dataframe tbody tr th {\n",
       "        vertical-align: top;\n",
       "    }\n",
       "\n",
       "    .dataframe thead th {\n",
       "        text-align: right;\n",
       "    }\n",
       "</style>\n",
       "<table border=\"1\" class=\"dataframe\">\n",
       "  <thead>\n",
       "    <tr style=\"text-align: right;\">\n",
       "      <th></th>\n",
       "      <th>lineage</th>\n",
       "      <th>count</th>\n",
       "      <th>mean</th>\n",
       "      <th>std</th>\n",
       "      <th>min</th>\n",
       "      <th>2.5%</th>\n",
       "      <th>50%</th>\n",
       "      <th>97.5%</th>\n",
       "      <th>max</th>\n",
       "      <th>lineage_num</th>\n",
       "    </tr>\n",
       "  </thead>\n",
       "  <tbody>\n",
       "    <tr>\n",
       "      <th>0</th>\n",
       "      <td>T9</td>\n",
       "      <td>371.0</td>\n",
       "      <td>4.269512e-07</td>\n",
       "      <td>4.296140e-07</td>\n",
       "      <td>4.001319e-08</td>\n",
       "      <td>1.209180e-07</td>\n",
       "      <td>2.927878e-07</td>\n",
       "      <td>0.000001</td>\n",
       "      <td>0.000006</td>\n",
       "      <td>9</td>\n",
       "    </tr>\n",
       "    <tr>\n",
       "      <th>1</th>\n",
       "      <td>T10</td>\n",
       "      <td>1229.0</td>\n",
       "      <td>4.994939e-07</td>\n",
       "      <td>7.326701e-07</td>\n",
       "      <td>3.825208e-08</td>\n",
       "      <td>1.204386e-07</td>\n",
       "      <td>3.093430e-07</td>\n",
       "      <td>0.000002</td>\n",
       "      <td>0.000019</td>\n",
       "      <td>10</td>\n",
       "    </tr>\n",
       "    <tr>\n",
       "      <th>2</th>\n",
       "      <td>T11</td>\n",
       "      <td>131.0</td>\n",
       "      <td>7.775869e-07</td>\n",
       "      <td>1.036112e-06</td>\n",
       "      <td>6.788870e-08</td>\n",
       "      <td>1.296973e-07</td>\n",
       "      <td>4.378641e-07</td>\n",
       "      <td>0.000004</td>\n",
       "      <td>0.000008</td>\n",
       "      <td>11</td>\n",
       "    </tr>\n",
       "    <tr>\n",
       "      <th>3</th>\n",
       "      <td>T12</td>\n",
       "      <td>599.0</td>\n",
       "      <td>7.742426e-07</td>\n",
       "      <td>1.280403e-06</td>\n",
       "      <td>6.177741e-08</td>\n",
       "      <td>1.343389e-07</td>\n",
       "      <td>4.052188e-07</td>\n",
       "      <td>0.000004</td>\n",
       "      <td>0.000013</td>\n",
       "      <td>12</td>\n",
       "    </tr>\n",
       "    <tr>\n",
       "      <th>4</th>\n",
       "      <td>T13</td>\n",
       "      <td>455.0</td>\n",
       "      <td>8.256197e-07</td>\n",
       "      <td>1.291677e-06</td>\n",
       "      <td>4.067156e-08</td>\n",
       "      <td>8.036367e-08</td>\n",
       "      <td>3.855682e-07</td>\n",
       "      <td>0.000005</td>\n",
       "      <td>0.000011</td>\n",
       "      <td>13</td>\n",
       "    </tr>\n",
       "  </tbody>\n",
       "</table>\n",
       "</div>"
      ],
      "text/plain": [
       "  lineage   count          mean           std           min          2.5%  \\\n",
       "0      T9   371.0  4.269512e-07  4.296140e-07  4.001319e-08  1.209180e-07   \n",
       "1     T10  1229.0  4.994939e-07  7.326701e-07  3.825208e-08  1.204386e-07   \n",
       "2     T11   131.0  7.775869e-07  1.036112e-06  6.788870e-08  1.296973e-07   \n",
       "3     T12   599.0  7.742426e-07  1.280403e-06  6.177741e-08  1.343389e-07   \n",
       "4     T13   455.0  8.256197e-07  1.291677e-06  4.067156e-08  8.036367e-08   \n",
       "\n",
       "            50%     97.5%       max  lineage_num  \n",
       "0  2.927878e-07  0.000001  0.000006            9  \n",
       "1  3.093430e-07  0.000002  0.000019           10  \n",
       "2  4.378641e-07  0.000004  0.000008           11  \n",
       "3  4.052188e-07  0.000004  0.000013           12  \n",
       "4  3.855682e-07  0.000005  0.000011           13  "
      ]
     },
     "execution_count": 4,
     "metadata": {},
     "output_type": "execute_result"
    }
   ],
   "source": [
    "summary = rates.groupby( [\"lineage\"] )[\"median_rate\"].describe( percentiles=[0.025, 0.5, 0.975]).reset_index()\n",
    "summary[\"lineage_num\"] = summary[\"lineage\"].apply( lambda x: int( x[1:] ))\n",
    "summary = summary.sort_values([\"lineage_num\"]).reset_index( drop=True )\n",
    "summary.head()\n"
   ]
  },
  {
   "cell_type": "markdown",
   "source": [
    "Substitution rates might be elevated on external branches because of the presence of sequencing errors and procedural issues. These types of mutations won't become fixed and therefore the substitution rate on internal branches should be more accurate. Because of this, we also summarize the substitution rates observed for each lineage considering only internal branches."
   ],
   "metadata": {
    "collapsed": false
   },
   "id": "7aff6870858bbfbf"
  },
  {
   "cell_type": "code",
   "execution_count": 5,
   "id": "22888cd030fdffe3",
   "metadata": {
    "ExecuteTime": {
     "end_time": "2024-08-15T17:59:23.153296Z",
     "start_time": "2024-08-15T17:59:23.120224Z"
    },
    "collapsed": false
   },
   "outputs": [
    {
     "data": {
      "text/html": [
       "<div>\n",
       "<style scoped>\n",
       "    .dataframe tbody tr th:only-of-type {\n",
       "        vertical-align: middle;\n",
       "    }\n",
       "\n",
       "    .dataframe tbody tr th {\n",
       "        vertical-align: top;\n",
       "    }\n",
       "\n",
       "    .dataframe thead th {\n",
       "        text-align: right;\n",
       "    }\n",
       "</style>\n",
       "<table border=\"1\" class=\"dataframe\">\n",
       "  <thead>\n",
       "    <tr style=\"text-align: right;\">\n",
       "      <th></th>\n",
       "      <th>lineage</th>\n",
       "      <th>internal</th>\n",
       "      <th>count</th>\n",
       "      <th>mean</th>\n",
       "      <th>std</th>\n",
       "      <th>min</th>\n",
       "      <th>2.5%</th>\n",
       "      <th>50%</th>\n",
       "      <th>97.5%</th>\n",
       "      <th>max</th>\n",
       "      <th>lineage_num</th>\n",
       "    </tr>\n",
       "  </thead>\n",
       "  <tbody>\n",
       "    <tr>\n",
       "      <th>0</th>\n",
       "      <td>T9</td>\n",
       "      <td>True</td>\n",
       "      <td>185.0</td>\n",
       "      <td>4.050971e-07</td>\n",
       "      <td>3.346314e-07</td>\n",
       "      <td>4.001319e-08</td>\n",
       "      <td>1.114156e-07</td>\n",
       "      <td>2.884702e-07</td>\n",
       "      <td>0.000001</td>\n",
       "      <td>0.000003</td>\n",
       "      <td>9</td>\n",
       "    </tr>\n",
       "    <tr>\n",
       "      <th>1</th>\n",
       "      <td>T10</td>\n",
       "      <td>True</td>\n",
       "      <td>614.0</td>\n",
       "      <td>4.584895e-07</td>\n",
       "      <td>4.148042e-07</td>\n",
       "      <td>3.825208e-08</td>\n",
       "      <td>1.025774e-07</td>\n",
       "      <td>3.231353e-07</td>\n",
       "      <td>0.000001</td>\n",
       "      <td>0.000004</td>\n",
       "      <td>10</td>\n",
       "    </tr>\n",
       "    <tr>\n",
       "      <th>2</th>\n",
       "      <td>T11</td>\n",
       "      <td>True</td>\n",
       "      <td>65.0</td>\n",
       "      <td>9.011578e-07</td>\n",
       "      <td>1.245873e-06</td>\n",
       "      <td>6.788870e-08</td>\n",
       "      <td>1.273751e-07</td>\n",
       "      <td>4.617107e-07</td>\n",
       "      <td>0.000004</td>\n",
       "      <td>0.000008</td>\n",
       "      <td>11</td>\n",
       "    </tr>\n",
       "    <tr>\n",
       "      <th>3</th>\n",
       "      <td>T12</td>\n",
       "      <td>True</td>\n",
       "      <td>299.0</td>\n",
       "      <td>5.781187e-07</td>\n",
       "      <td>6.211499e-07</td>\n",
       "      <td>7.766483e-08</td>\n",
       "      <td>1.383550e-07</td>\n",
       "      <td>3.856079e-07</td>\n",
       "      <td>0.000003</td>\n",
       "      <td>0.000005</td>\n",
       "      <td>12</td>\n",
       "    </tr>\n",
       "    <tr>\n",
       "      <th>4</th>\n",
       "      <td>T13</td>\n",
       "      <td>True</td>\n",
       "      <td>227.0</td>\n",
       "      <td>6.839490e-07</td>\n",
       "      <td>1.040511e-06</td>\n",
       "      <td>4.067156e-08</td>\n",
       "      <td>6.937806e-08</td>\n",
       "      <td>3.841949e-07</td>\n",
       "      <td>0.000003</td>\n",
       "      <td>0.000009</td>\n",
       "      <td>13</td>\n",
       "    </tr>\n",
       "    <tr>\n",
       "      <th>5</th>\n",
       "      <td>T15</td>\n",
       "      <td>True</td>\n",
       "      <td>495.0</td>\n",
       "      <td>4.546649e-07</td>\n",
       "      <td>4.575837e-07</td>\n",
       "      <td>2.651839e-08</td>\n",
       "      <td>6.110639e-08</td>\n",
       "      <td>3.280620e-07</td>\n",
       "      <td>0.000002</td>\n",
       "      <td>0.000005</td>\n",
       "      <td>15</td>\n",
       "    </tr>\n",
       "  </tbody>\n",
       "</table>\n",
       "</div>"
      ],
      "text/plain": [
       "  lineage  internal  count          mean           std           min  \\\n",
       "0      T9      True  185.0  4.050971e-07  3.346314e-07  4.001319e-08   \n",
       "1     T10      True  614.0  4.584895e-07  4.148042e-07  3.825208e-08   \n",
       "2     T11      True   65.0  9.011578e-07  1.245873e-06  6.788870e-08   \n",
       "3     T12      True  299.0  5.781187e-07  6.211499e-07  7.766483e-08   \n",
       "4     T13      True  227.0  6.839490e-07  1.040511e-06  4.067156e-08   \n",
       "5     T15      True  495.0  4.546649e-07  4.575837e-07  2.651839e-08   \n",
       "\n",
       "           2.5%           50%     97.5%       max  lineage_num  \n",
       "0  1.114156e-07  2.884702e-07  0.000001  0.000003            9  \n",
       "1  1.025774e-07  3.231353e-07  0.000001  0.000004           10  \n",
       "2  1.273751e-07  4.617107e-07  0.000004  0.000008           11  \n",
       "3  1.383550e-07  3.856079e-07  0.000003  0.000005           12  \n",
       "4  6.937806e-08  3.841949e-07  0.000003  0.000009           13  \n",
       "5  6.110639e-08  3.280620e-07  0.000002  0.000005           15  "
      ]
     },
     "execution_count": 5,
     "metadata": {},
     "output_type": "execute_result"
    }
   ],
   "source": [
    "summary_int = rates.groupby( [\"lineage\", \"internal\"] )[\"median_rate\"].describe( percentiles=[0.025, 0.5, 0.975]).reset_index()\n",
    "summary_int[\"lineage_num\"] = summary_int[\"lineage\"].apply( lambda x: int( x[1:] ))\n",
    "summary_int = summary_int.sort_values([\"lineage_num\",\"internal\"])\n",
    "summary_int = summary_int.loc[summary_int[\"internal\"]].reset_index( drop=True )\n",
    "summary_int"
   ]
  },
  {
   "cell_type": "markdown",
   "source": [
    "Finally, we plot the distributions of substitution rates for each lineage. This generates Supplemental Figure 4."
   ],
   "metadata": {
    "collapsed": false
   },
   "id": "2738789fe8ab7b22"
  },
  {
   "cell_type": "code",
   "execution_count": 6,
   "id": "4db12402a4f6083d",
   "metadata": {
    "ExecuteTime": {
     "end_time": "2024-08-15T17:59:28.078238Z",
     "start_time": "2024-08-15T17:59:27.415961Z"
    },
    "collapsed": false
   },
   "outputs": [
    {
     "data": {
      "image/png": "[encoded data removed]",
      "text/plain": [
       "<Figure size 1600x800 with 1 Axes>"
      ]
     },
     "metadata": {},
     "output_type": "display_data"
    }
   ],
   "source": [
    "offset = 0.15\n",
    "\n",
    "fig, ax = plt.subplots( figsize=(8,4) )\n",
    "\n",
    "ln = ax.hlines( y=summary.index + offset, xmin=summary[\"2.5%\"], xmax=summary[\"97.5%\"], linewidth=3, color=\"#56B4E9\", zorder=5 )\n",
    "ln.set_capstyle( \"round\" )\n",
    "ax.scatter( summary[\"50%\"], summary.index + offset, color=\"#56B4E9\", edgecolor=COLOR, s=50, zorder=10 )\n",
    "\n",
    "ln = ax.hlines( y=summary_int.index - offset, xmin=summary_int[\"2.5%\"], xmax=summary_int[\"97.5%\"], linewidth=3, color=\"#C1C1C1\", zorder=5 )\n",
    "ln.set_capstyle( \"round\" )\n",
    "ax.scatter( summary_int[\"50%\"], summary_int.index - offset, color=\"#C1C1C1\", edgecolor=COLOR, s=50, zorder=10 )\n",
    "\n",
    "for i in range( 1, len( summary[\"lineage\"] ), 2):\n",
    "    ax.axhspan( i-0.5,i+0.5, color=\"black\", alpha=0.04, edgecolor=None, linewidth=0, zorder=5 )\n",
    "\n",
    "ax.set_yticks(summary.index)\n",
    "ax.set_yticklabels( summary[\"lineage\"].str.replace( \"T\", \"AFR\" ) )\n",
    "ax.set_xscale( \"log\" )\n",
    "\n",
    "legend = [\n",
    "    Line2D([0], [0], linestyle='none', marker='o', color=\"#56B4E9\", markeredgecolor=COLOR, markeredgewidth=1, label=\"All branches\", markersize=7.5 ),\n",
    "    Line2D([0], [0], linestyle='none', marker='o', color=\"#C1C1C1\", markeredgecolor=COLOR, markeredgewidth=1, label=\"Internal branches\", markersize=7.5 )\n",
    "]\n",
    "legend = ax.legend( handles=legend, ncols=2, loc=\"upper center\", bbox_to_anchor=(0,0,1,1.125), handletextpad=0.0, frameon=False, fontsize=10, edgecolor=\"None\" )    \n",
    "\n",
    "basic_formatting( ax, which=\"x\", ylims=(-0.5, 5.5), xlims=(1E-8, 1E-5), xlabel=\"Substitutions / site / year\", ylabel=\"Transmission event lineages\" )\n",
    "\n",
    "plt.tight_layout()\n",
    "plt.savefig( \"plots/figureS3-lineage-substitution-rates.pdf\" )\n",
    "plt.savefig( \"plots/figureS3-lineage-substitution-rates.png\" )\n",
    "plt.show()"
   ]
  }
 ],
 "metadata": {
  "kernelspec": {
   "display_name": "Python 3 (ipykernel)",
   "language": "python",
   "name": "python3"
  },
  "language_info": {
   "codemirror_mode": {
    "name": "ipython",
    "version": 3
   },
   "file_extension": ".py",
   "mimetype": "text/x-python",
   "name": "python",
   "nbconvert_exporter": "python",
   "pygments_lexer": "ipython3",
   "version": "3.11.9"
  }
 },
 "nbformat": 4,
 "nbformat_minor": 5
}
