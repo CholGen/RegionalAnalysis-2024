{
 "cells": [
  {
   "cell_type": "code",
   "id": "initial_id",
   "metadata": {
    "collapsed": true
   },
   "source": [
    "import pandas as pd\n",
    "from dendropy import Tree"
   ],
   "outputs": [],
   "execution_count": null
  },
  {
   "cell_type": "markdown",
   "source": [
    "This is a simple script to extract the estimate substitution rates found along branches that descendent from multiple MRCAs."
   ],
   "metadata": {
    "collapsed": false
   },
   "id": "5463c60822c50557"
  },
  {
   "cell_type": "markdown",
   "source": [
    "First, we load the tree."
   ],
   "metadata": {
    "collapsed": false
   },
   "id": "58eb2e1beb55ebf1"
  },
  {
   "cell_type": "code",
   "source": [
    "tree = Tree.get( path=\"../../beast-analyses/2025-05-28_constant_relaxed.mcc.tree\", schema=\"nexus\", preserve_underscores=True )\n",
    "taxa = [i.label for i in tree.taxon_namespace]"
   ],
   "metadata": {
    "collapsed": false
   },
   "id": "84cdc1e85c6f4073",
   "outputs": [],
   "execution_count": null
  },
  {
   "cell_type": "markdown",
   "source": [
    "Next, we load the metadata. We will be assessing how substitution rate is associated with lineage so we extract the `te` column specifically."
   ],
   "metadata": {
    "collapsed": false
   },
   "id": "35de2d51a4f17d7"
  },
  {
   "cell_type": "code",
   "source": [
    "md = list()\n",
    "for file in [\"supplemental_data1.csv\", \"supplemental_data2.csv\"]:\n",
    "    df = pd.read_csv( \"../../data/\" + file, usecols=[\"taxa\", \"te\", \"included_analysis\"] )\n",
    "    df[\"workshop\"] = (file == \"supplemental_data1.csv\")\n",
    "    md.append( df )\n",
    "    \n",
    "md = pd.concat( md )\n",
    "md = md.loc[md[\"taxa\"].isin(taxa)]\n",
    "md = md.drop_duplicates()\n",
    "assert len( md ) == len( taxa)\n",
    "md.head()"
   ],
   "metadata": {
    "collapsed": false
   },
   "id": "85cde994d3409c1c",
   "outputs": [],
   "execution_count": null
  },
  {
   "cell_type": "markdown",
   "source": [
    "Lastly, we iterate through the third wave 7PET lineages, identify their MRCA, and collect all of the substitution rates on branches that descend from that MRCA."
   ],
   "metadata": {
    "collapsed": false
   },
   "id": "eba0a9153604b2dd"
  },
  {
   "cell_type": "code",
   "source": [
    "results = {\n",
    "    \"lineage\" : [],\n",
    "    \"internal\" : [],\n",
    "    \"median_rate\" : [],\n",
    "    \"branch_length\" : []\n",
    "}\n",
    "\n",
    "for lineage in [\"T9\", \"T10\", \"T11\", \"T12\", \"T13\", \"T15\"]:\n",
    "    representatives = md.loc[md[\"te\"]==lineage,\"taxa\"].to_list()\n",
    "    #if lineage == \"T13\":\n",
    "    #    representatives = [\"Africa|KEN|KEN-2007-008|T13|2007-01-01\", \"Asia|YEM|ERR2269621|T13|2017-01-01\"]\n",
    "    lineage_mrca = tree.mrca( taxon_labels=representatives )\n",
    "    print( f\"{lineage}: {lineage_mrca.distance_from_tip()}\")\n",
    "    for node in lineage_mrca.postorder_iter():\n",
    "        results[\"lineage\"].append( lineage )\n",
    "        results[\"internal\"].append( node.is_internal() )\n",
    "        rate = node.annotations[\"rate_median\"].value\n",
    "        if rate == \"\":\n",
    "            rate = node.annotations[\"rate\"].value\n",
    "        results[\"median_rate\"].append( float( rate ) )\n",
    "        results[\"branch_length\"].append( node.edge_length )\n",
    "        \n",
    "results = pd.DataFrame( results )\n",
    "results.to_csv( \"lineage_rates.csv\", index=False )\n",
    "results.head()"
   ],
   "metadata": {
    "collapsed": false
   },
   "id": "3a6c5dfdad6e8ae2",
   "outputs": [],
   "execution_count": null
  }
 ],
 "metadata": {
  "kernelspec": {
   "display_name": "Python 3",
   "language": "python",
   "name": "python3"
  },
  "language_info": {
   "codemirror_mode": {
    "name": "ipython",
    "version": 2
   },
   "file_extension": ".py",
   "mimetype": "text/x-python",
   "name": "python",
   "nbconvert_exporter": "python",
   "pygments_lexer": "ipython2",
   "version": "2.7.6"
  }
 },
 "nbformat": 4,
 "nbformat_minor": 5
}
