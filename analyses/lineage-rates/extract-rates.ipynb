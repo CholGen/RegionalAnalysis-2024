{
 "cells": [
  {
   "cell_type": "code",
   "id": "initial_id",
   "metadata": {
    "collapsed": true,
    "ExecuteTime": {
     "end_time": "2024-08-30T15:15:29.213583Z",
     "start_time": "2024-08-30T15:15:28.573109Z"
    }
   },
   "source": [
    "import pandas as pd\n",
    "from dendropy import Tree"
   ],
   "outputs": [],
   "execution_count": 1
  },
  {
   "cell_type": "markdown",
   "source": [
    "This is a simple script to extract the estimate substitution rates found along branches that descendent from multiple MRCAs."
   ],
   "metadata": {
    "collapsed": false
   },
   "id": "5463c60822c50557"
  },
  {
   "cell_type": "markdown",
   "source": [
    "First, we load the tree."
   ],
   "metadata": {
    "collapsed": false
   },
   "id": "58eb2e1beb55ebf1"
  },
  {
   "cell_type": "code",
   "source": [
    "tree = Tree.get( path=\"../../beast-analyses/2024-08-06_constant_relaxed.mcc.tree\", schema=\"nexus\", preserve_underscores=True )"
   ],
   "metadata": {
    "collapsed": false,
    "ExecuteTime": {
     "end_time": "2024-08-30T15:15:32.261846Z",
     "start_time": "2024-08-30T15:15:30.148897Z"
    }
   },
   "id": "84cdc1e85c6f4073",
   "outputs": [],
   "execution_count": 2
  },
  {
   "cell_type": "markdown",
   "source": [
    "Next, we load the metadata. We will be assessing how substitution rate is associated with lineage so we extract the `te` column specifically."
   ],
   "metadata": {
    "collapsed": false
   },
   "id": "35de2d51a4f17d7"
  },
  {
   "cell_type": "code",
   "source": [
    "md = list()\n",
    "for file in [\"supplemental_data1.csv\", \"supplemental_data2.csv\"]:\n",
    "    df = pd.read_csv( \"../../data/\" + file, usecols=[\"taxa\", \"te\", \"included_analysis\"] )\n",
    "    df[\"workshop\"] = (file == \"supplemental_data1.csv\")\n",
    "    md.append( df )\n",
    "    \n",
    "md = pd.concat( md )\n",
    "md = md.loc[md[\"included_analysis\"]]\n",
    "md = md.drop_duplicates()\n",
    "md.head()"
   ],
   "metadata": {
    "collapsed": false,
    "ExecuteTime": {
     "end_time": "2024-08-30T15:18:13.860432Z",
     "start_time": "2024-08-30T15:18:13.835707Z"
    }
   },
   "id": "85cde994d3409c1c",
   "outputs": [
    {
     "data": {
      "text/plain": [
       "                                         taxa   te  included_analysis  \\\n",
       "0    Africa|CMR|CMR_CEN005NA35|T12|2023-04-12  T12               True   \n",
       "1  Africa|CMR|CMR_CEN032BM-B48|T12|2023-05-04  T12               True   \n",
       "2     Africa|CMR|CMR_E05557442|T12|2023-05-12  T12               True   \n",
       "3    Africa|CMR|CMR_CEN030DA43|T12|2023-05-03  T12               True   \n",
       "4    Africa|CMR|CMR_CEN027NV44|T12|2023-05-01  T12               True   \n",
       "\n",
       "   workshop  \n",
       "0      True  \n",
       "1      True  \n",
       "2      True  \n",
       "3      True  \n",
       "4      True  "
      ],
      "text/html": [
       "<div>\n",
       "<style scoped>\n",
       "    .dataframe tbody tr th:only-of-type {\n",
       "        vertical-align: middle;\n",
       "    }\n",
       "\n",
       "    .dataframe tbody tr th {\n",
       "        vertical-align: top;\n",
       "    }\n",
       "\n",
       "    .dataframe thead th {\n",
       "        text-align: right;\n",
       "    }\n",
       "</style>\n",
       "<table border=\"1\" class=\"dataframe\">\n",
       "  <thead>\n",
       "    <tr style=\"text-align: right;\">\n",
       "      <th></th>\n",
       "      <th>taxa</th>\n",
       "      <th>te</th>\n",
       "      <th>included_analysis</th>\n",
       "      <th>workshop</th>\n",
       "    </tr>\n",
       "  </thead>\n",
       "  <tbody>\n",
       "    <tr>\n",
       "      <th>0</th>\n",
       "      <td>Africa|CMR|CMR_CEN005NA35|T12|2023-04-12</td>\n",
       "      <td>T12</td>\n",
       "      <td>True</td>\n",
       "      <td>True</td>\n",
       "    </tr>\n",
       "    <tr>\n",
       "      <th>1</th>\n",
       "      <td>Africa|CMR|CMR_CEN032BM-B48|T12|2023-05-04</td>\n",
       "      <td>T12</td>\n",
       "      <td>True</td>\n",
       "      <td>True</td>\n",
       "    </tr>\n",
       "    <tr>\n",
       "      <th>2</th>\n",
       "      <td>Africa|CMR|CMR_E05557442|T12|2023-05-12</td>\n",
       "      <td>T12</td>\n",
       "      <td>True</td>\n",
       "      <td>True</td>\n",
       "    </tr>\n",
       "    <tr>\n",
       "      <th>3</th>\n",
       "      <td>Africa|CMR|CMR_CEN030DA43|T12|2023-05-03</td>\n",
       "      <td>T12</td>\n",
       "      <td>True</td>\n",
       "      <td>True</td>\n",
       "    </tr>\n",
       "    <tr>\n",
       "      <th>4</th>\n",
       "      <td>Africa|CMR|CMR_CEN027NV44|T12|2023-05-01</td>\n",
       "      <td>T12</td>\n",
       "      <td>True</td>\n",
       "      <td>True</td>\n",
       "    </tr>\n",
       "  </tbody>\n",
       "</table>\n",
       "</div>"
      ]
     },
     "execution_count": 12,
     "metadata": {},
     "output_type": "execute_result"
    }
   ],
   "execution_count": 12
  },
  {
   "cell_type": "markdown",
   "source": [
    "Lastly, we iterate through the third wave 7PET lineages, identify their MRCA, and collect all of the substitution rates on branches that descend from that MRCA."
   ],
   "metadata": {
    "collapsed": false
   },
   "id": "eba0a9153604b2dd"
  },
  {
   "cell_type": "code",
   "source": [
    "results = {\n",
    "    \"lineage\" : [],\n",
    "    \"internal\" : [],\n",
    "    \"median_rate\" : [],\n",
    "    \"branch_length\" : []\n",
    "}\n",
    "\n",
    "for lineage in [\"T9\", \"T10\", \"T11\", \"T12\", \"T13\", \"T15\"]:\n",
    "    representatives = md.loc[md[\"te\"]==lineage,\"taxa\"].to_list()\n",
    "    #if lineage == \"T13\":\n",
    "    #    representatives = [\"Africa|KEN|KEN-2007-008|T13|2007-01-01\", \"Asia|YEM|ERR2269621|T13|2017-01-01\"]\n",
    "    lineage_mrca = tree.mrca( taxon_labels=representatives )\n",
    "    print( f\"{lineage}: {lineage_mrca.distance_from_tip()}\")\n",
    "    for node in lineage_mrca.postorder_iter():\n",
    "        results[\"lineage\"].append( lineage )\n",
    "        results[\"internal\"].append( node.is_internal() )\n",
    "        rate = node.annotations[\"rate_median\"].value\n",
    "        if rate == \"\":\n",
    "            rate = node.annotations[\"rate\"].value\n",
    "        results[\"median_rate\"].append( float( rate ) )\n",
    "        results[\"branch_length\"].append( node.edge_length )\n",
    "        \n",
    "results = pd.DataFrame( results )\n",
    "results.to_csv( \"lineage_rates.csv\", index=False )\n",
    "results.head()"
   ],
   "metadata": {
    "collapsed": false,
    "ExecuteTime": {
     "end_time": "2024-08-30T15:18:21.111129Z",
     "start_time": "2024-08-30T15:18:20.435550Z"
    }
   },
   "id": "3a6c5dfdad6e8ae2",
   "outputs": [
    {
     "name": "stdout",
     "output_type": "stream",
     "text": [
      "T9: 24.353003133916896\n",
      "T10: 28.91582267614507\n",
      "T11: 23.798626897544487\n",
      "T12: 16.105707519851478\n",
      "T13: 18.02554753876225\n",
      "T15: 5.3616885438717565\n"
     ]
    },
    {
     "data": {
      "text/plain": [
       "  lineage  internal   median_rate  branch_length\n",
       "0      T9     False  2.967276e-07       3.010490\n",
       "1      T9     False  8.649867e-07       3.010490\n",
       "2      T9      True  2.763022e-07       0.556136\n",
       "3      T9     False  1.712785e-07       2.520708\n",
       "4      T9     False  2.896827e-07       3.520708"
      ],
      "text/html": [
       "<div>\n",
       "<style scoped>\n",
       "    .dataframe tbody tr th:only-of-type {\n",
       "        vertical-align: middle;\n",
       "    }\n",
       "\n",
       "    .dataframe tbody tr th {\n",
       "        vertical-align: top;\n",
       "    }\n",
       "\n",
       "    .dataframe thead th {\n",
       "        text-align: right;\n",
       "    }\n",
       "</style>\n",
       "<table border=\"1\" class=\"dataframe\">\n",
       "  <thead>\n",
       "    <tr style=\"text-align: right;\">\n",
       "      <th></th>\n",
       "      <th>lineage</th>\n",
       "      <th>internal</th>\n",
       "      <th>median_rate</th>\n",
       "      <th>branch_length</th>\n",
       "    </tr>\n",
       "  </thead>\n",
       "  <tbody>\n",
       "    <tr>\n",
       "      <th>0</th>\n",
       "      <td>T9</td>\n",
       "      <td>False</td>\n",
       "      <td>2.967276e-07</td>\n",
       "      <td>3.010490</td>\n",
       "    </tr>\n",
       "    <tr>\n",
       "      <th>1</th>\n",
       "      <td>T9</td>\n",
       "      <td>False</td>\n",
       "      <td>8.649867e-07</td>\n",
       "      <td>3.010490</td>\n",
       "    </tr>\n",
       "    <tr>\n",
       "      <th>2</th>\n",
       "      <td>T9</td>\n",
       "      <td>True</td>\n",
       "      <td>2.763022e-07</td>\n",
       "      <td>0.556136</td>\n",
       "    </tr>\n",
       "    <tr>\n",
       "      <th>3</th>\n",
       "      <td>T9</td>\n",
       "      <td>False</td>\n",
       "      <td>1.712785e-07</td>\n",
       "      <td>2.520708</td>\n",
       "    </tr>\n",
       "    <tr>\n",
       "      <th>4</th>\n",
       "      <td>T9</td>\n",
       "      <td>False</td>\n",
       "      <td>2.896827e-07</td>\n",
       "      <td>3.520708</td>\n",
       "    </tr>\n",
       "  </tbody>\n",
       "</table>\n",
       "</div>"
      ]
     },
     "execution_count": 13,
     "metadata": {},
     "output_type": "execute_result"
    }
   ],
   "execution_count": 13
  }
 ],
 "metadata": {
  "kernelspec": {
   "display_name": "Python 3",
   "language": "python",
   "name": "python3"
  },
  "language_info": {
   "codemirror_mode": {
    "name": "ipython",
    "version": 2
   },
   "file_extension": ".py",
   "mimetype": "text/x-python",
   "name": "python",
   "nbconvert_exporter": "python",
   "pygments_lexer": "ipython2",
   "version": "2.7.6"
  }
 },
 "nbformat": 4,
 "nbformat_minor": 5
}
